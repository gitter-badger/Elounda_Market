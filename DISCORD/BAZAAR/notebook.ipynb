{
 "cells": [
  {
   "cell_type": "markdown",
   "metadata": {
    "collapsed": true
   },
   "source": [
    "# Bazaar\n",
    "\n",
    "\n",
    "#### Prephase: Loading Libraries and Start Working With Data. \n",
    "- Global Libraries : `pandas`  <a href = \"https://pandas.pydata.org\" target=\"_blank\"> (Data analysis Library) </a>|| `numpy` <a href = \"https://numpy.org\" target=\"_blank\"> (Scientific Computing Libraby) </a>\n",
    "\n",
    "- Private Libraries: `sql_connect` <a href = \"https://docs.microsoft.com/en-us/sql/connect/python/python-driver-for-sql-server?view=sql-server-ver15\" target=\"_blank\"> (connects with sql server using ODBC Driver) </a>\n",
    "\n",
    "- Local Libraries: `excel` <a href = \"https://xlsxwriter.readthedocs.io\" target=\"_blank\"> (exports data to excel) </a>  || `scrap` <a href = \"https://www.crummy.com/software/BeautifulSoup/bs4/doc/\" target=\"_blank\"> (a Web Scrap Tool Used to find Online Prices ) </a> || `slack` <a href = \"https://api.slack.com/tutorials/tags/cool-tricks\" target=\"_blank\"> (a slack specific tool to send files and messages using a BOT) </a> || `sql` <a href = \"https://docs.microsoft.com/en-US/sql/t-sql/queries/select-transact-sql?view=sql-server-ver15\" target=\"_blank\"> (contains direct queries to sql database using SELECT) </a> || `plot` <a href = \"https://matplotlib.org\" target=\"_blank\"> (returns data as graph) </a> \n",
    "\n"
   ]
  },
  {
   "cell_type": "code",
   "execution_count": 1,
   "metadata": {},
   "outputs": [],
   "source": [
    "import pandas as pd\n",
    "import numpy as np\n",
    "from DISCORD.BAZAAR import excel, scrap, slack, sql, plot\n",
    "from Private import sql_connect\n",
    "import matplotlib.pyplot as plt\n",
    "import seaborn as sns"
   ]
  },
  {
   "cell_type": "markdown",
   "metadata": {},
   "source": [
    "## STEP 1\n",
    "\n",
    "- Think about how my excel file will be named: **output_file**\n",
    "- Think about where i want to store my file: **path_to_file**\n",
    "- Set my Suppliers Name as it is in My Database: **main_name**"
   ]
  },
  {
   "cell_type": "code",
   "execution_count": 2,
   "metadata": {},
   "outputs": [],
   "source": [
    "output_file = 'Bazaar.xlsx'\n",
    "path_to_file = f'/Users/kommas/OneDrive/Business_Folder/Slack/Multiple_emails/{output_file}'\n",
    "main_name = 'Bazaar A.E.'"
   ]
  },
  {
   "cell_type": "markdown",
   "metadata": {},
   "source": [
    "## STEP 2\n",
    "\n",
    "- Read the sql query from my local library and store results to a `Dataframe` using pandas library name the variable: **sql_answer_bazaar** \n",
    "- Isolate Brands, store results in **unique_brands**\n",
    "- Find `MEAN` Markup per Brand, store results in a `var` named: **markup_per_brand**\n",
    "- Isolate Barcodes in `var`: **barcode_lista**"
   ]
  },
  {
   "cell_type": "code",
   "execution_count": 3,
   "metadata": {},
   "outputs": [],
   "source": [
    "sql_answer_bazaar = pd.read_sql_query(sql.private_database_query(main_name), sql_connect.connect())"
   ]
  },
  {
   "cell_type": "code",
   "execution_count": 4,
   "metadata": {},
   "outputs": [],
   "source": [
    "unique_brands = sql_answer_bazaar['BRAND'].unique()"
   ]
  },
  {
   "cell_type": "code",
   "execution_count": 5,
   "metadata": {},
   "outputs": [],
   "source": [
    "markup_per_brand= [round(sql_answer_bazaar['ΚΕΡΔΟΦΟΡΙΑ'][sql_answer_bazaar['BRAND'] == i].mean() * 100, 2) for i in unique_brands]"
   ]
  },
  {
   "cell_type": "code",
   "execution_count": 6,
   "metadata": {},
   "outputs": [],
   "source": [
    "barcode_lista = sql_answer_bazaar['BARCODE']"
   ]
  },
  {
   "cell_type": "markdown",
   "metadata": {},
   "source": [
    "## STEP 3\n",
    "\n",
    "- Choose Shops to Scrap Data (`scrap.a = BAZAAR`, `scrap.b = ΑΒ. Βασιλόπουλος`, `scrap.e = Care Market`)\n",
    "- Find Prices for every shop in the list"
   ]
  },
  {
   "cell_type": "code",
   "execution_count": 7,
   "metadata": {},
   "outputs": [
    {
     "name": "stdout",
     "output_type": "stream",
     "text": [
      "\n",
      "BAZAAR Start: 11:17:09\n",
      "LOADING:[██████████████████████████████████████████████████]100%\t HACKING\t [5202178007934]\t \n",
      "ΑΒ. Βασιλόπουλος Start: 11:17:15\n",
      "LOADING:[██████████████████████████████████████████████████]100%\t HACKING\t [5202178007934]\t \n",
      "Care Market Start: 11:17:18\n",
      "LOADING:[██████████████████████████████████████████████████]100%\t HACKING\t [5202178007934]\t \n"
     ]
    }
   ],
   "source": [
    "scrap.shops = [scrap.a, scrap.b, scrap.e]\n",
    "out = scrap.calculate_prices(barcode_lista)"
   ]
  },
  {
   "cell_type": "markdown",
   "metadata": {},
   "source": [
    "## STEP 4\n",
    "\n",
    "- Assign Results to Dataframe\n",
    "- Isolate Prices"
   ]
  },
  {
   "cell_type": "code",
   "execution_count": 8,
   "metadata": {},
   "outputs": [],
   "source": [
    "sql_answer_bazaar['ΤΙΜΗ BAZAAR'] = out['BAZAAR']\n",
    "sql_answer_bazaar['TIMH ΒΑΣΙΛΟΠΟΥΛΟΣ'] = out['ΑΒ. Βασιλόπουλος']\n",
    "sql_answer_bazaar['TIMH Care Market'] = out['Care Market']"
   ]
  },
  {
   "cell_type": "code",
   "execution_count": 9,
   "metadata": {
    "pycharm": {
     "name": "#%%\n"
    }
   },
   "outputs": [],
   "source": [
    "df = sql_answer_bazaar[['ΤΙΜΗ ΛΙΑΝΙΚΗΣ', 'ΤΙΜΗ BAZAAR', 'TIMH ΒΑΣΙΛΟΠΟΥΛΟΣ', 'TIMH Care Market', 'BRAND']]"
   ]
  },
  {
   "cell_type": "markdown",
   "metadata": {
    "pycharm": {
     "name": "#%% md\n"
    }
   },
   "source": [
    "## STEP 5\n",
    "- Extract data to excel file"
   ]
  },
  {
   "cell_type": "code",
   "execution_count": 10,
   "metadata": {},
   "outputs": [],
   "source": [
    "excel.export(path_to_file, sql_answer_bazaar)"
   ]
  },
  {
   "cell_type": "code",
   "execution_count": 11,
   "metadata": {
    "pycharm": {
     "name": "#%%\n"
    }
   },
   "outputs": [
    {
     "data": {
      "text/html": [
       "<div>\n",
       "<style scoped>\n",
       "    .dataframe tbody tr th:only-of-type {\n",
       "        vertical-align: middle;\n",
       "    }\n",
       "\n",
       "    .dataframe tbody tr th {\n",
       "        vertical-align: top;\n",
       "    }\n",
       "\n",
       "    .dataframe thead th {\n",
       "        text-align: right;\n",
       "    }\n",
       "</style>\n",
       "<table border=\"1\" class=\"dataframe\">\n",
       "  <thead>\n",
       "    <tr style=\"text-align: right;\">\n",
       "      <th></th>\n",
       "      <th>ΠΑΡΑΣΤΑΤΙΚΟ</th>\n",
       "      <th>BARCODE</th>\n",
       "      <th>ΠΕΡΙΓΡΑΦΗ</th>\n",
       "      <th>BRAND</th>\n",
       "      <th>ΠΟΣΟΤΗΤΑ</th>\n",
       "      <th>ΚΑΘΑΡΗ ΤΙΜΗ</th>\n",
       "      <th>ΤΙΜΗ ΛΙΑΝΙΚΗΣ</th>\n",
       "      <th>ΚΕΡΔΟΦΟΡΙΑ</th>\n",
       "      <th>ΤΙΜΗ BAZAAR</th>\n",
       "      <th>TIMH ΒΑΣΙΛΟΠΟΥΛΟΣ</th>\n",
       "      <th>TIMH Care Market</th>\n",
       "    </tr>\n",
       "  </thead>\n",
       "  <tbody>\n",
       "    <tr>\n",
       "      <th>0</th>\n",
       "      <td>ΑΤΔ-ΑΓ-032437</td>\n",
       "      <td>5202178000003</td>\n",
       "      <td>Όλυμπος® Γάλα Ζωής 3,7% Λιπαρά 1ltr</td>\n",
       "      <td>Όλυμπος</td>\n",
       "      <td>12.0</td>\n",
       "      <td>1.175833</td>\n",
       "      <td>1.69</td>\n",
       "      <td>0.271927</td>\n",
       "      <td>1.66</td>\n",
       "      <td>1.66</td>\n",
       "      <td>1.66</td>\n",
       "    </tr>\n",
       "    <tr>\n",
       "      <th>1</th>\n",
       "      <td>ΑΤΔ-ΑΓ-032437</td>\n",
       "      <td>5202178000331</td>\n",
       "      <td>Όλυμπος® Γάλα Κατσικίσιο 3,5% Λιπαρά 1ltr</td>\n",
       "      <td>Όλυμπος</td>\n",
       "      <td>12.0</td>\n",
       "      <td>1.786667</td>\n",
       "      <td>2.75</td>\n",
       "      <td>0.362105</td>\n",
       "      <td>0.00</td>\n",
       "      <td>2.38</td>\n",
       "      <td>2.38</td>\n",
       "    </tr>\n",
       "    <tr>\n",
       "      <th>2</th>\n",
       "      <td>ΑΤΔ-ΑΓ-032437</td>\n",
       "      <td>5201054031612</td>\n",
       "      <td>Φάγε® Γιαούρτι Total 2% 200gr x 3</td>\n",
       "      <td>Φάγε</td>\n",
       "      <td>8.0</td>\n",
       "      <td>2.012500</td>\n",
       "      <td>3.95</td>\n",
       "      <td>0.736931</td>\n",
       "      <td>2.30</td>\n",
       "      <td>3.30</td>\n",
       "      <td>2.30</td>\n",
       "    </tr>\n",
       "    <tr>\n",
       "      <th>3</th>\n",
       "      <td>ΑΤΔ-ΑΓ-032437</td>\n",
       "      <td>5201054031841</td>\n",
       "      <td>Φάγε® Γιαούρτι Total 200gr x 3</td>\n",
       "      <td>Φάγε</td>\n",
       "      <td>8.0</td>\n",
       "      <td>2.012500</td>\n",
       "      <td>3.95</td>\n",
       "      <td>0.736931</td>\n",
       "      <td>2.30</td>\n",
       "      <td>3.30</td>\n",
       "      <td>2.30</td>\n",
       "    </tr>\n",
       "    <tr>\n",
       "      <th>4</th>\n",
       "      <td>ΑΤΔ-ΑΓ-032437</td>\n",
       "      <td>5202178007934</td>\n",
       "      <td>Όλυμπος® Γιαούρτι Στραγγιστό 5% 1kgr</td>\n",
       "      <td>Όλυμπος</td>\n",
       "      <td>6.0</td>\n",
       "      <td>2.306667</td>\n",
       "      <td>4.55</td>\n",
       "      <td>0.745613</td>\n",
       "      <td>2.99</td>\n",
       "      <td>3.95</td>\n",
       "      <td>3.95</td>\n",
       "    </tr>\n",
       "  </tbody>\n",
       "</table>\n",
       "</div>"
      ],
      "text/plain": [
       "     ΠΑΡΑΣΤΑΤΙΚΟ        BARCODE                                  ΠΕΡΙΓΡΑΦΗ    BRAND  ΠΟΣΟΤΗΤΑ  ΚΑΘΑΡΗ ΤΙΜΗ  ΤΙΜΗ ΛΙΑΝΙΚΗΣ  ΚΕΡΔΟΦΟΡΙΑ  ΤΙΜΗ BAZAAR  TIMH ΒΑΣΙΛΟΠΟΥΛΟΣ  TIMH Care Market\n",
       "0  ΑΤΔ-ΑΓ-032437  5202178000003        Όλυμπος® Γάλα Ζωής 3,7% Λιπαρά 1ltr  Όλυμπος      12.0     1.175833           1.69    0.271927         1.66               1.66              1.66\n",
       "1  ΑΤΔ-ΑΓ-032437  5202178000331  Όλυμπος® Γάλα Κατσικίσιο 3,5% Λιπαρά 1ltr  Όλυμπος      12.0     1.786667           2.75    0.362105         0.00               2.38              2.38\n",
       "2  ΑΤΔ-ΑΓ-032437  5201054031612          Φάγε® Γιαούρτι Total 2% 200gr x 3     Φάγε       8.0     2.012500           3.95    0.736931         2.30               3.30              2.30\n",
       "3  ΑΤΔ-ΑΓ-032437  5201054031841             Φάγε® Γιαούρτι Total 200gr x 3     Φάγε       8.0     2.012500           3.95    0.736931         2.30               3.30              2.30\n",
       "4  ΑΤΔ-ΑΓ-032437  5202178007934       Όλυμπος® Γιαούρτι Στραγγιστό 5% 1kgr  Όλυμπος       6.0     2.306667           4.55    0.745613         2.99               3.95              3.95"
      ]
     },
     "execution_count": 11,
     "metadata": {},
     "output_type": "execute_result"
    }
   ],
   "source": [
    "sql_answer_bazaar.head()"
   ]
  },
  {
   "cell_type": "markdown",
   "metadata": {
    "pycharm": {
     "name": "#%% md\n"
    }
   },
   "source": [
    "## STEP 6\n",
    "\n",
    "- VISUALIZE DATA"
   ]
  },
  {
   "cell_type": "code",
   "execution_count": 12,
   "metadata": {},
   "outputs": [
    {
     "data": {
      "image/png": "[encoded data removed]",
      "text/plain": [
       "<Figure size 1080x648 with 1 Axes>"
      ]
     },
     "metadata": {
      "needs_background": "light"
     },
     "output_type": "display_data"
    }
   ],
   "source": [
    "\n",
    "plt.figure(figsize=(15, 9))\n",
    "plt.subplot(xlabel='Product', ylabel='Retail Price', title='Retail Price [Scatter Plot]')\n",
    "plt.scatter(range(len(sql_answer_bazaar)), sql_answer_bazaar['ΤΙΜΗ ΛΙΑΝΙΚΗΣ'], marker='x', label='ELOUNDA', alpha=.8)\n",
    "plt.scatter(range(len(sql_answer_bazaar)), sql_answer_bazaar['ΤΙΜΗ BAZAAR'], marker='o', label='BAZAAR', alpha=.8)\n",
    "plt.plot(range(len(sql_answer_bazaar)), sql_answer_bazaar['ΚΑΘΑΡΗ ΤΙΜΗ'], label='ΚΑΘΑΡΗ ΤΙΜΗ', alpha=.8)\n",
    "plt.grid(True, alpha=0.2)\n",
    "plt.legend()\n",
    "plt.show()"
   ]
  },
  {
   "cell_type": "code",
   "execution_count": null,
   "outputs": [],
   "source": [
    "X = unique_brands\n",
    "y = markup_per_brand\n",
    "plt.figure(figsize=(15, 9))\n",
    "plt.subplot(xlabel='BRAND NAME', ylabel='MARKUP', title='ELOUNDA MARKET MARKUP PER BRAND ')\n",
    "plt.xticks(rotation=60)\n",
    "colors = [plt.cm.Spectral(i / float(len(X))) for i in range(len(X))]\n",
    "plt.bar(X, y, alpha=0.9, color=colors)\n",
    "for a, b in zip(X, y):\n",
    "    label = \"{:.2f}%\".format(b)\n",
    "\n",
    "        # this method is called for each point\n",
    "    plt.annotate(label,  # this is the text\n",
    "                     (a, b),  # this is the point to label\n",
    "                     textcoords=\"offset points\",  # how to position the text\n",
    "                     xytext=(0, 10),  # distance from text to points (x,y)\n",
    "                     ha='center')  # horizontal alignment can be left, right or center\n",
    "plt.grid(True, alpha=0.2)"
   ],
   "metadata": {
    "collapsed": false,
    "pycharm": {
     "name": "#%%\n"
    }
   }
  },
  {
   "cell_type": "code",
   "execution_count": 13,
   "metadata": {
    "scrolled": true
   },
   "outputs": [
    {
     "data": {
      "image/png": "[encoded data removed]",
      "text/plain": [
       "<Figure size 1080x648 with 1 Axes>"
      ]
     },
     "metadata": {
      "needs_background": "light"
     },
     "output_type": "display_data"
    }
   ],
   "source": []
  },
  {
   "cell_type": "code",
   "execution_count": null,
   "metadata": {},
   "outputs": [],
   "source": []
  },
  {
   "cell_type": "markdown",
   "metadata": {},
   "source": []
  },
  {
   "cell_type": "code",
   "execution_count": null,
   "metadata": {},
   "outputs": [],
   "source": []
  }
 ],
 "metadata": {
  "kernelspec": {
   "display_name": "Python 3",
   "language": "python",
   "name": "python3"
  },
  "language_info": {
   "codemirror_mode": {
    "name": "ipython",
    "version": 3
   },
   "file_extension": ".py",
   "mimetype": "text/x-python",
   "name": "python",
   "nbconvert_exporter": "python",
   "pygments_lexer": "ipython3",
   "version": "3.8.1"
  }
 },
 "nbformat": 4,
 "nbformat_minor": 1
}