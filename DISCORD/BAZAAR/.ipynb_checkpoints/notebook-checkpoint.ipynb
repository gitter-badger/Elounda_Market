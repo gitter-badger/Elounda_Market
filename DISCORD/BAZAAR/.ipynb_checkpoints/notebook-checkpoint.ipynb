{
 "cells": [
  {
   "cell_type": "markdown",
   "metadata": {
    "collapsed": true
   },
   "source": [
    "<center><img src=\"https://cdnsimg.scdn3.secure.raxcdn.com/static/files/201705/2b3/skywalker-bazaarNEWLOGO.jpg_2b348bc6256ae4b637a797b70a6d805287f469e8.jpg\" /></center>\n",
    "\n",
    "<center><img  width=\"100\" src=\"https://github.com/johnkommas/Elounda_Market/blob/master/PLOT_EXAMPLES/elounda.png?raw=true\" /></center>\n",
    "\n",
    "#### Prephase: Loading Libraries and Start Working With Data. \n",
    "- Global Libraries : `pandas`  <a href = \"https://pandas.pydata.org\" target=\"_blank\"> (Data analysis Library) </a>|| `numpy` <a href = \"https://numpy.org\" target=\"_blank\"> (Scientific Computing Libraby) </a>\n",
    "\n",
    "- Private Libraries: `sql_connect` <a href = \"https://docs.microsoft.com/en-us/sql/connect/python/python-driver-for-sql-server?view=sql-server-ver15\" target=\"_blank\"> (connects with sql server using ODBC Driver) </a>\n",
    "\n",
    "- Local Libraries: `excel` <a href = \"https://xlsxwriter.readthedocs.io\" target=\"_blank\"> (exports data to excel) </a>  || `scrap` <a href = \"https://www.crummy.com/software/BeautifulSoup/bs4/doc/\" target=\"_blank\"> (a Web Scrap Tool Used to find Online Prices ) </a> || `slack` <a href = \"https://api.slack.com/tutorials/tags/cool-tricks\" target=\"_blank\"> (a slack specific tool to send files and messages using a BOT) </a> || `sql` <a href = \"https://docs.microsoft.com/en-US/sql/t-sql/queries/select-transact-sql?view=sql-server-ver15\" target=\"_blank\"> (contains direct queries to sql database using SELECT) </a> || `plot` <a href = \"https://matplotlib.org\" target=\"_blank\"> (returns data as graph) </a> \n",
    "\n"
   ]
  },
  {
   "cell_type": "code",
   "execution_count": null,
   "metadata": {},
   "outputs": [],
   "source": [
    "import pandas as pd\n",
    "import numpy as np\n",
    "from DISCORD.BAZAAR import excel, scrap, slack, sql, plot\n",
    "from Private import sql_connect\n",
    "import matplotlib.pyplot as plt\n",
    "import seaborn as sns"
   ]
  },
  {
   "cell_type": "code",
   "execution_count": null,
   "metadata": {
    "pycharm": {
     "name": "#%%\n"
    }
   },
   "outputs": [],
   "source": [
    "pd.set_option('display.max_rows', None)"
   ]
  },
  {
   "cell_type": "markdown",
   "metadata": {
    "pycharm": {
     "name": "#%% md\n"
    }
   },
   "source": [
    "## <center> STEP 1 </center>\n",
    "\n",
    "- Think about how my excel file will be named: **output_file**\n",
    "- Think about where i want to store my file: **path_to_file**\n",
    "- Set my Suppliers Name as it is in My Database: **main_name**"
   ]
  },
  {
   "cell_type": "code",
   "execution_count": null,
   "metadata": {
    "pycharm": {
     "name": "#%%\n"
    }
   },
   "outputs": [],
   "source": [
    "output_file = 'Bazaar.xlsx'\n",
    "path_to_file = f'/Users/kommas/OneDrive/Business_Folder/Slack/Multiple_emails/{output_file}'\n",
    "main_name = 'Bazaar A.E.'"
   ]
  },
  {
   "cell_type": "markdown",
   "metadata": {
    "pycharm": {
     "name": "#%% md\n"
    }
   },
   "source": [
    "## <center> STEP 2 </center>\n",
    "\n",
    "- Read the sql query from my local library and store results to a `Dataframe` using pandas library name the variable: **sql_answer_bazaar** \n",
    "- Isolate Brands, store results in **unique_brands**\n",
    "- Find `MEAN` Markup per Brand, store results in a `var` named: **markup_per_brand**\n",
    "- Isolate Barcodes in `var`: **barcode_lista**"
   ]
  },
  {
   "cell_type": "code",
   "execution_count": null,
   "metadata": {},
   "outputs": [],
   "source": [
    "sql_answer_bazaar = pd.read_sql_query(sql.private_database_query(main_name), sql_connect.connect())"
   ]
  },
  {
   "cell_type": "code",
   "execution_count": null,
   "metadata": {},
   "outputs": [],
   "source": [
    "unique_brands = sql_answer_bazaar['BRAND'].unique()"
   ]
  },
  {
   "cell_type": "code",
   "execution_count": null,
   "metadata": {},
   "outputs": [],
   "source": [
    "markup_per_brand= [round(sql_answer_bazaar['ΚΕΡΔΟΦΟΡΙΑ'][sql_answer_bazaar['BRAND'] == i].mean() * 100, 2) for i in unique_brands]"
   ]
  },
  {
   "cell_type": "code",
   "execution_count": null,
   "metadata": {
    "pycharm": {
     "name": "#%%\n"
    }
   },
   "outputs": [],
   "source": [
    "barcode_lista = sql_answer_bazaar['BARCODE']"
   ]
  },
  {
   "cell_type": "markdown",
   "metadata": {
    "pycharm": {
     "name": "#%% md\n"
    }
   },
   "source": [
    "## <center> STEP 3 </center>\n",
    "\n",
    "- Choose Shops to Scrap Data (`scrap.a = BAZAAR`, `scrap.b = ΑΒ. Βασιλόπουλος`, `scrap.e = Care Market`)\n",
    "- Find Prices for every shop in the list"
   ]
  },
  {
   "cell_type": "code",
   "execution_count": null,
   "metadata": {
    "pycharm": {
     "name": "#%%\n"
    }
   },
   "outputs": [],
   "source": [
    "scrap.shops = [scrap.a, scrap.b, scrap.e]\n",
    "out = scrap.calculate_prices(barcode_lista)"
   ]
  },
  {
   "cell_type": "markdown",
   "metadata": {
    "pycharm": {
     "name": "#%% md\n"
    }
   },
   "source": [
    "## <center> STEP 4 </center>\n",
    "\n",
    "- Assign Results to Dataframe\n",
    "- Isolate Prices"
   ]
  },
  {
   "cell_type": "code",
   "execution_count": null,
   "metadata": {},
   "outputs": [],
   "source": [
    "sql_answer_bazaar['ΤΙΜΗ BAZAAR'] = out['BAZAAR']\n",
    "sql_answer_bazaar['TIMH ΒΑΣΙΛΟΠΟΥΛΟΣ'] = out['ΑΒ. Βασιλόπουλος']\n",
    "sql_answer_bazaar['TIMH Care Market'] = out['Care Market']"
   ]
  },
  {
   "cell_type": "code",
   "execution_count": null,
   "metadata": {
    "pycharm": {
     "name": "#%%\n"
    }
   },
   "outputs": [],
   "source": [
    "df = sql_answer_bazaar[['ΤΙΜΗ ΛΙΑΝΙΚΗΣ', 'ΤΙΜΗ BAZAAR', 'TIMH ΒΑΣΙΛΟΠΟΥΛΟΣ', 'TIMH Care Market', 'BRAND']]"
   ]
  },
  {
   "cell_type": "markdown",
   "metadata": {
    "pycharm": {
     "name": "#%% md\n"
    }
   },
   "source": [
    "## <center> STEP 5 </center>\n",
    "- Extract data to excel file\n",
    "- Show the First 5 row data of the new DATAFRAME (includes new prices) using `.head()`"
   ]
  },
  {
   "cell_type": "code",
   "execution_count": null,
   "metadata": {},
   "outputs": [],
   "source": [
    "excel.export(path_to_file, sql_answer_bazaar)"
   ]
  },
  {
   "cell_type": "code",
   "execution_count": null,
   "metadata": {
    "pycharm": {
     "name": "#%%\n"
    }
   },
   "outputs": [],
   "source": [
    "sql_answer_bazaar = sql_answer_bazaar.sort_values(by='ΚΕΡΔΟΦΟΡΙΑ')\n"
   ]
  },
  {
   "cell_type": "markdown",
   "metadata": {
    "pycharm": {
     "name": "#%% md\n"
    }
   },
   "source": [
    "## <center> STEP 6 </center>\n",
    "\n",
    "- VISUALIZE DATA"
   ]
  },
  {
   "cell_type": "code",
   "execution_count": null,
   "metadata": {},
   "outputs": [],
   "source": [
    "\n",
    "plt.figure(figsize=(25, 9))\n",
    "plt.subplot(xlabel='Product', ylabel='Retail Price', title='Retail Price [Scatter Plot]')\n",
    "plt.scatter(range(len(sql_answer_bazaar)), sql_answer_bazaar['ΤΙΜΗ ΛΙΑΝΙΚΗΣ'], marker='x', label='ELOUNDA', alpha=.8)\n",
    "plt.scatter(range(len(sql_answer_bazaar)), sql_answer_bazaar['ΤΙΜΗ BAZAAR'], marker='o', label='BAZAAR', alpha=.8)\n",
    "plt.plot(range(len(sql_answer_bazaar)), sql_answer_bazaar['ΚΑΘΑΡΗ ΤΙΜΗ'], label='ΚΑΘΑΡΗ ΤΙΜΗ', alpha=.8)\n",
    "plt.grid(True, alpha=0.2)\n",
    "plt.legend()\n",
    "plt.show()"
   ]
  },
  {
   "cell_type": "code",
   "execution_count": null,
   "metadata": {
    "pycharm": {
     "name": "#%%\n"
    }
   },
   "outputs": [],
   "source": [
    "X = unique_brands\n",
    "y = markup_per_brand\n",
    "plt.figure(figsize=(25, 9))\n",
    "plt.subplot(xlabel='BRAND NAME', ylabel='MARKUP', title='ELOUNDA MARKET MARKUP PER BRAND ')\n",
    "plt.xticks(rotation=60)\n",
    "colors = [plt.cm.Spectral(i / float(len(X))) for i in range(len(X))]\n",
    "plt.bar(X, y, alpha=0.9, color=colors)\n",
    "for a, b in zip(X, y):\n",
    "    label = \"{:.2f}%\".format(b)\n",
    "\n",
    "        # this method is called for each point\n",
    "    plt.annotate(label,  # this is the text\n",
    "                     (a, b),  # this is the point to label\n",
    "                     textcoords=\"offset points\",  # how to position the text\n",
    "                     xytext=(0, 10),  # distance from text to points (x,y)\n",
    "                     ha='center')  # horizontal alignment can be left, right or center\n",
    "plt.grid(True, alpha=0.2)"
   ]
  },
  {
   "cell_type": "markdown",
   "metadata": {},
   "source": [
    "## <center> STEP 7 </center>\n",
    "\n",
    "- To get a Better feeling of `df` dataframe we use the `.describe()` method that shows a summary of the numerical attributes."
   ]
  },
  {
   "cell_type": "code",
   "execution_count": null,
   "metadata": {},
   "outputs": [],
   "source": [
    "df.describe()"
   ]
  },
  {
   "cell_type": "markdown",
   "metadata": {},
   "source": [
    "###### Another quick way to get a feel of the type of data, is to plot a HISTOGRAM \n",
    "\n",
    "- A histogram shows the number of instances (on the vertical axes) that have a given value range (on the horizontal axis), the use of `df.hist()` method will plot a histogram for every numerical attribute."
   ]
  },
  {
   "cell_type": "code",
   "execution_count": null,
   "metadata": {
    "scrolled": true
   },
   "outputs": [],
   "source": [
    "df.hist(bins=100,figsize=(25,9))\n",
    "plt.show()"
   ]
  },
  {
   "cell_type": "markdown",
   "metadata": {},
   "source": [
    "<center><img  width=\"300\" src=\"https://github.com/johnkommas/Elounda_Market/blob/master/PLOT_EXAMPLES/signature.png?raw=true\" /></center>"
   ]
  }
 ],
 "metadata": {
  "kernelspec": {
   "display_name": "Python 3",
   "language": "python",
   "name": "python3"
  },
  "language_info": {
   "codemirror_mode": {
    "name": "ipython",
    "version": 3
   },
   "file_extension": ".py",
   "mimetype": "text/x-python",
   "name": "python",
   "nbconvert_exporter": "python",
   "pygments_lexer": "ipython3",
   "version": "3.8.1"
  }
 },
 "nbformat": 4,
 "nbformat_minor": 1
}
